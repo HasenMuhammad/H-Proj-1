{
 "cells": [
  {
   "cell_type": "code",
   "execution_count": 8,
   "id": "4bb08ccd-2cd6-460d-99c7-3562c01ea7d6",
   "metadata": {},
   "outputs": [],
   "source": [
    "#import os\n",
    "import os"
   ]
  },
  {
   "cell_type": "code",
   "execution_count": 9,
   "id": "6dab6877-f3f9-490a-bf00-4b4c42fdcc03",
   "metadata": {},
   "outputs": [],
   "source": [
    "import cv2"
   ]
  },
  {
   "cell_type": "code",
   "execution_count": 10,
   "id": "8c0a476e-b80a-4719-83b8-59fff47e60a6",
   "metadata": {},
   "outputs": [],
   "source": [
    "#Read image\n",
    "img = cv2.imread(\"bird.jpg\")"
   ]
  },
  {
   "cell_type": "code",
   "execution_count": null,
   "id": "df2c3f82-a6c9-4370-b244-f01f3a6edeb7",
   "metadata": {},
   "outputs": [],
   "source": [
    "#Visualize image\n",
    "cv2.imshow('color image',img)\n",
    "cv2.waitKey(0)"
   ]
  },
  {
   "cell_type": "code",
   "execution_count": null,
   "id": "6b29806f-b1e3-458f-8208-afcc316dca3f",
   "metadata": {},
   "outputs": [],
   "source": []
  },
  {
   "cell_type": "code",
   "execution_count": null,
   "id": "106dae5b-245e-423a-9dc8-54ac02f29e82",
   "metadata": {},
   "outputs": [],
   "source": []
  }
 ],
 "metadata": {
  "kernelspec": {
   "display_name": "Python 3 (ipykernel)",
   "language": "python",
   "name": "python3"
  },
  "language_info": {
   "codemirror_mode": {
    "name": "ipython",
    "version": 3
   },
   "file_extension": ".py",
   "mimetype": "text/x-python",
   "name": "python",
   "nbconvert_exporter": "python",
   "pygments_lexer": "ipython3",
   "version": "3.12.8"
  }
 },
 "nbformat": 4,
 "nbformat_minor": 5
}
